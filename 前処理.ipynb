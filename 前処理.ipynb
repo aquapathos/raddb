{
 "cells": [
  {
   "cell_type": "code",
   "execution_count": 1,
   "metadata": {
    "collapsed": true
   },
   "outputs": [],
   "source": [
    "import os\n",
    "import glob\n",
    "import pandas as pd\n",
    "import numpy as np\n",
    "from PIL import Image\n",
    "import re\n",
    "\n",
    "files = glob.glob('2017ダイコン写真/*.jpg')\n",
    "\n",
    "df = pd.DataFrame(columns =['filename', 'year','spacies', 'block', 'shape','sn'])\n",
    "\n",
    "# 表データの生成\n",
    "for f in files:    \n",
    "    fname = os.path.basename(f)\n",
    "    try:\n",
    "        (year,spacies, block, shape,sn,_) = re.findall(r'(\\d+|\\D+)',fname)\n",
    "        sn = ('00'+sn)[-3:]\n",
    "    except:\n",
    "        continue\n",
    "    sd = pd.Series({'filename':fname, 'year':year, 'spacies':spacies, 'block':block, 'shape':shape,'sn':sn })\n",
    "    df = df.append(sd, ignore_index=True)\n",
    "    df = df.sort_values(by=['spacies','block','shape','sn'])   "
   ]
  },
  {
   "cell_type": "code",
   "execution_count": null,
   "metadata": {
    "collapsed": true
   },
   "outputs": [],
   "source": [
    "# 4分の１サイズの画像生成\n",
    "'''for f in files:  \n",
    "    fname = os.path.basename(f)\n",
    "    img = Image.open(f)\n",
    "    img_resize = img.resize((int(img.width/4), int(img.height/4)))\n",
    "    img_resize.save('qpics/' + fname)'''"
   ]
  },
  {
   "cell_type": "code",
   "execution_count": 2,
   "metadata": {},
   "outputs": [
    {
     "data": {
      "text/html": [
       "<div>\n",
       "<style>\n",
       "    .dataframe thead tr:only-child th {\n",
       "        text-align: right;\n",
       "    }\n",
       "\n",
       "    .dataframe thead th {\n",
       "        text-align: left;\n",
       "    }\n",
       "\n",
       "    .dataframe tbody tr th {\n",
       "        vertical-align: top;\n",
       "    }\n",
       "</style>\n",
       "<table border=\"1\" class=\"dataframe\">\n",
       "  <thead>\n",
       "    <tr style=\"text-align: right;\">\n",
       "      <th></th>\n",
       "      <th>filename</th>\n",
       "      <th>year</th>\n",
       "      <th>spacies</th>\n",
       "      <th>block</th>\n",
       "      <th>shape</th>\n",
       "      <th>sn</th>\n",
       "    </tr>\n",
       "  </thead>\n",
       "  <tbody>\n",
       "    <tr>\n",
       "      <th>0</th>\n",
       "      <td>17ajimal1a1.jpg</td>\n",
       "      <td>17</td>\n",
       "      <td>ajimal</td>\n",
       "      <td>1</td>\n",
       "      <td>a</td>\n",
       "      <td>001</td>\n",
       "    </tr>\n",
       "    <tr>\n",
       "      <th>1</th>\n",
       "      <td>17ajimal1a2.jpg</td>\n",
       "      <td>17</td>\n",
       "      <td>ajimal</td>\n",
       "      <td>1</td>\n",
       "      <td>a</td>\n",
       "      <td>002</td>\n",
       "    </tr>\n",
       "    <tr>\n",
       "      <th>2</th>\n",
       "      <td>17ajimal1a3.jpg</td>\n",
       "      <td>17</td>\n",
       "      <td>ajimal</td>\n",
       "      <td>1</td>\n",
       "      <td>a</td>\n",
       "      <td>003</td>\n",
       "    </tr>\n",
       "    <tr>\n",
       "      <th>3</th>\n",
       "      <td>17ajimal1a4.jpg</td>\n",
       "      <td>17</td>\n",
       "      <td>ajimal</td>\n",
       "      <td>1</td>\n",
       "      <td>a</td>\n",
       "      <td>004</td>\n",
       "    </tr>\n",
       "    <tr>\n",
       "      <th>4</th>\n",
       "      <td>17ajimal1a5.jpg</td>\n",
       "      <td>17</td>\n",
       "      <td>ajimal</td>\n",
       "      <td>1</td>\n",
       "      <td>a</td>\n",
       "      <td>005</td>\n",
       "    </tr>\n",
       "    <tr>\n",
       "      <th>5</th>\n",
       "      <td>17ajimal1a6.jpg</td>\n",
       "      <td>17</td>\n",
       "      <td>ajimal</td>\n",
       "      <td>1</td>\n",
       "      <td>a</td>\n",
       "      <td>006</td>\n",
       "    </tr>\n",
       "    <tr>\n",
       "      <th>6</th>\n",
       "      <td>17ajimal1a7.jpg</td>\n",
       "      <td>17</td>\n",
       "      <td>ajimal</td>\n",
       "      <td>1</td>\n",
       "      <td>a</td>\n",
       "      <td>007</td>\n",
       "    </tr>\n",
       "    <tr>\n",
       "      <th>7</th>\n",
       "      <td>17ajimal1a8.jpg</td>\n",
       "      <td>17</td>\n",
       "      <td>ajimal</td>\n",
       "      <td>1</td>\n",
       "      <td>a</td>\n",
       "      <td>008</td>\n",
       "    </tr>\n",
       "    <tr>\n",
       "      <th>8</th>\n",
       "      <td>17ajimal1a9.jpg</td>\n",
       "      <td>17</td>\n",
       "      <td>ajimal</td>\n",
       "      <td>1</td>\n",
       "      <td>a</td>\n",
       "      <td>009</td>\n",
       "    </tr>\n",
       "    <tr>\n",
       "      <th>9</th>\n",
       "      <td>17ajimal1a10.jpg</td>\n",
       "      <td>17</td>\n",
       "      <td>ajimal</td>\n",
       "      <td>1</td>\n",
       "      <td>a</td>\n",
       "      <td>010</td>\n",
       "    </tr>\n",
       "    <tr>\n",
       "      <th>10</th>\n",
       "      <td>17ajimal1o1.jpg</td>\n",
       "      <td>17</td>\n",
       "      <td>ajimal</td>\n",
       "      <td>1</td>\n",
       "      <td>o</td>\n",
       "      <td>001</td>\n",
       "    </tr>\n",
       "    <tr>\n",
       "      <th>11</th>\n",
       "      <td>17ajimal1o2.jpg</td>\n",
       "      <td>17</td>\n",
       "      <td>ajimal</td>\n",
       "      <td>1</td>\n",
       "      <td>o</td>\n",
       "      <td>002</td>\n",
       "    </tr>\n",
       "    <tr>\n",
       "      <th>12</th>\n",
       "      <td>17ajimal1o3.jpg</td>\n",
       "      <td>17</td>\n",
       "      <td>ajimal</td>\n",
       "      <td>1</td>\n",
       "      <td>o</td>\n",
       "      <td>003</td>\n",
       "    </tr>\n",
       "    <tr>\n",
       "      <th>13</th>\n",
       "      <td>17ajimal1o4.jpg</td>\n",
       "      <td>17</td>\n",
       "      <td>ajimal</td>\n",
       "      <td>1</td>\n",
       "      <td>o</td>\n",
       "      <td>004</td>\n",
       "    </tr>\n",
       "    <tr>\n",
       "      <th>14</th>\n",
       "      <td>17ajimal1o5.jpg</td>\n",
       "      <td>17</td>\n",
       "      <td>ajimal</td>\n",
       "      <td>1</td>\n",
       "      <td>o</td>\n",
       "      <td>005</td>\n",
       "    </tr>\n",
       "    <tr>\n",
       "      <th>15</th>\n",
       "      <td>17ajimal1o6.jpg</td>\n",
       "      <td>17</td>\n",
       "      <td>ajimal</td>\n",
       "      <td>1</td>\n",
       "      <td>o</td>\n",
       "      <td>006</td>\n",
       "    </tr>\n",
       "    <tr>\n",
       "      <th>16</th>\n",
       "      <td>17ajimal1o7.jpg</td>\n",
       "      <td>17</td>\n",
       "      <td>ajimal</td>\n",
       "      <td>1</td>\n",
       "      <td>o</td>\n",
       "      <td>007</td>\n",
       "    </tr>\n",
       "    <tr>\n",
       "      <th>17</th>\n",
       "      <td>17ajimal1o8.jpg</td>\n",
       "      <td>17</td>\n",
       "      <td>ajimal</td>\n",
       "      <td>1</td>\n",
       "      <td>o</td>\n",
       "      <td>008</td>\n",
       "    </tr>\n",
       "    <tr>\n",
       "      <th>18</th>\n",
       "      <td>17ajimal1o9.jpg</td>\n",
       "      <td>17</td>\n",
       "      <td>ajimal</td>\n",
       "      <td>1</td>\n",
       "      <td>o</td>\n",
       "      <td>009</td>\n",
       "    </tr>\n",
       "    <tr>\n",
       "      <th>19</th>\n",
       "      <td>17ajimal1o10.jpg</td>\n",
       "      <td>17</td>\n",
       "      <td>ajimal</td>\n",
       "      <td>1</td>\n",
       "      <td>o</td>\n",
       "      <td>010</td>\n",
       "    </tr>\n",
       "    <tr>\n",
       "      <th>20</th>\n",
       "      <td>17ajimal2a1.jpg</td>\n",
       "      <td>17</td>\n",
       "      <td>ajimal</td>\n",
       "      <td>2</td>\n",
       "      <td>a</td>\n",
       "      <td>001</td>\n",
       "    </tr>\n",
       "    <tr>\n",
       "      <th>21</th>\n",
       "      <td>17ajimal2a2.jpg</td>\n",
       "      <td>17</td>\n",
       "      <td>ajimal</td>\n",
       "      <td>2</td>\n",
       "      <td>a</td>\n",
       "      <td>002</td>\n",
       "    </tr>\n",
       "    <tr>\n",
       "      <th>22</th>\n",
       "      <td>17ajimal2a3.jpg</td>\n",
       "      <td>17</td>\n",
       "      <td>ajimal</td>\n",
       "      <td>2</td>\n",
       "      <td>a</td>\n",
       "      <td>003</td>\n",
       "    </tr>\n",
       "    <tr>\n",
       "      <th>23</th>\n",
       "      <td>17ajimal2a4.jpg</td>\n",
       "      <td>17</td>\n",
       "      <td>ajimal</td>\n",
       "      <td>2</td>\n",
       "      <td>a</td>\n",
       "      <td>004</td>\n",
       "    </tr>\n",
       "    <tr>\n",
       "      <th>24</th>\n",
       "      <td>17ajimal2a5.jpg</td>\n",
       "      <td>17</td>\n",
       "      <td>ajimal</td>\n",
       "      <td>2</td>\n",
       "      <td>a</td>\n",
       "      <td>005</td>\n",
       "    </tr>\n",
       "    <tr>\n",
       "      <th>25</th>\n",
       "      <td>17ajimal2a6.jpg</td>\n",
       "      <td>17</td>\n",
       "      <td>ajimal</td>\n",
       "      <td>2</td>\n",
       "      <td>a</td>\n",
       "      <td>006</td>\n",
       "    </tr>\n",
       "    <tr>\n",
       "      <th>26</th>\n",
       "      <td>17ajimal2a7.jpg</td>\n",
       "      <td>17</td>\n",
       "      <td>ajimal</td>\n",
       "      <td>2</td>\n",
       "      <td>a</td>\n",
       "      <td>007</td>\n",
       "    </tr>\n",
       "    <tr>\n",
       "      <th>27</th>\n",
       "      <td>17ajimal2a8.jpg</td>\n",
       "      <td>17</td>\n",
       "      <td>ajimal</td>\n",
       "      <td>2</td>\n",
       "      <td>a</td>\n",
       "      <td>008</td>\n",
       "    </tr>\n",
       "    <tr>\n",
       "      <th>28</th>\n",
       "      <td>17ajimal2a9.jpg</td>\n",
       "      <td>17</td>\n",
       "      <td>ajimal</td>\n",
       "      <td>2</td>\n",
       "      <td>a</td>\n",
       "      <td>009</td>\n",
       "    </tr>\n",
       "    <tr>\n",
       "      <th>29</th>\n",
       "      <td>17ajimal2a10.jpg</td>\n",
       "      <td>17</td>\n",
       "      <td>ajimal</td>\n",
       "      <td>2</td>\n",
       "      <td>a</td>\n",
       "      <td>010</td>\n",
       "    </tr>\n",
       "    <tr>\n",
       "      <th>...</th>\n",
       "      <td>...</td>\n",
       "      <td>...</td>\n",
       "      <td>...</td>\n",
       "      <td>...</td>\n",
       "      <td>...</td>\n",
       "      <td>...</td>\n",
       "    </tr>\n",
       "    <tr>\n",
       "      <th>1392</th>\n",
       "      <td>17yukiko1o1.jpg</td>\n",
       "      <td>17</td>\n",
       "      <td>yukiko</td>\n",
       "      <td>1</td>\n",
       "      <td>o</td>\n",
       "      <td>001</td>\n",
       "    </tr>\n",
       "    <tr>\n",
       "      <th>1393</th>\n",
       "      <td>17yukiko1o2.jpg</td>\n",
       "      <td>17</td>\n",
       "      <td>yukiko</td>\n",
       "      <td>1</td>\n",
       "      <td>o</td>\n",
       "      <td>002</td>\n",
       "    </tr>\n",
       "    <tr>\n",
       "      <th>1394</th>\n",
       "      <td>17yukiko1o3.jpg</td>\n",
       "      <td>17</td>\n",
       "      <td>yukiko</td>\n",
       "      <td>1</td>\n",
       "      <td>o</td>\n",
       "      <td>003</td>\n",
       "    </tr>\n",
       "    <tr>\n",
       "      <th>1395</th>\n",
       "      <td>17yukiko1o4.jpg</td>\n",
       "      <td>17</td>\n",
       "      <td>yukiko</td>\n",
       "      <td>1</td>\n",
       "      <td>o</td>\n",
       "      <td>004</td>\n",
       "    </tr>\n",
       "    <tr>\n",
       "      <th>1396</th>\n",
       "      <td>17yukiko1o5.jpg</td>\n",
       "      <td>17</td>\n",
       "      <td>yukiko</td>\n",
       "      <td>1</td>\n",
       "      <td>o</td>\n",
       "      <td>005</td>\n",
       "    </tr>\n",
       "    <tr>\n",
       "      <th>1397</th>\n",
       "      <td>17yukiko1o6.jpg</td>\n",
       "      <td>17</td>\n",
       "      <td>yukiko</td>\n",
       "      <td>1</td>\n",
       "      <td>o</td>\n",
       "      <td>006</td>\n",
       "    </tr>\n",
       "    <tr>\n",
       "      <th>1398</th>\n",
       "      <td>17yukiko1o7.jpg</td>\n",
       "      <td>17</td>\n",
       "      <td>yukiko</td>\n",
       "      <td>1</td>\n",
       "      <td>o</td>\n",
       "      <td>007</td>\n",
       "    </tr>\n",
       "    <tr>\n",
       "      <th>1399</th>\n",
       "      <td>17yukiko1o8.jpg</td>\n",
       "      <td>17</td>\n",
       "      <td>yukiko</td>\n",
       "      <td>1</td>\n",
       "      <td>o</td>\n",
       "      <td>008</td>\n",
       "    </tr>\n",
       "    <tr>\n",
       "      <th>1400</th>\n",
       "      <td>17yukiko1o9.jpg</td>\n",
       "      <td>17</td>\n",
       "      <td>yukiko</td>\n",
       "      <td>1</td>\n",
       "      <td>o</td>\n",
       "      <td>009</td>\n",
       "    </tr>\n",
       "    <tr>\n",
       "      <th>1401</th>\n",
       "      <td>17yukiko1o10.jpg</td>\n",
       "      <td>17</td>\n",
       "      <td>yukiko</td>\n",
       "      <td>1</td>\n",
       "      <td>o</td>\n",
       "      <td>010</td>\n",
       "    </tr>\n",
       "    <tr>\n",
       "      <th>1402</th>\n",
       "      <td>17yukiko2a1.jpg</td>\n",
       "      <td>17</td>\n",
       "      <td>yukiko</td>\n",
       "      <td>2</td>\n",
       "      <td>a</td>\n",
       "      <td>001</td>\n",
       "    </tr>\n",
       "    <tr>\n",
       "      <th>1403</th>\n",
       "      <td>17yukiko2a2.jpg</td>\n",
       "      <td>17</td>\n",
       "      <td>yukiko</td>\n",
       "      <td>2</td>\n",
       "      <td>a</td>\n",
       "      <td>002</td>\n",
       "    </tr>\n",
       "    <tr>\n",
       "      <th>1404</th>\n",
       "      <td>17yukiko2a3.jpg</td>\n",
       "      <td>17</td>\n",
       "      <td>yukiko</td>\n",
       "      <td>2</td>\n",
       "      <td>a</td>\n",
       "      <td>003</td>\n",
       "    </tr>\n",
       "    <tr>\n",
       "      <th>1405</th>\n",
       "      <td>17yukiko2a4.jpg</td>\n",
       "      <td>17</td>\n",
       "      <td>yukiko</td>\n",
       "      <td>2</td>\n",
       "      <td>a</td>\n",
       "      <td>004</td>\n",
       "    </tr>\n",
       "    <tr>\n",
       "      <th>1406</th>\n",
       "      <td>17yukiko2a5.jpg</td>\n",
       "      <td>17</td>\n",
       "      <td>yukiko</td>\n",
       "      <td>2</td>\n",
       "      <td>a</td>\n",
       "      <td>005</td>\n",
       "    </tr>\n",
       "    <tr>\n",
       "      <th>1407</th>\n",
       "      <td>17yukiko2a6.jpg</td>\n",
       "      <td>17</td>\n",
       "      <td>yukiko</td>\n",
       "      <td>2</td>\n",
       "      <td>a</td>\n",
       "      <td>006</td>\n",
       "    </tr>\n",
       "    <tr>\n",
       "      <th>1408</th>\n",
       "      <td>17yukiko2a7.jpg</td>\n",
       "      <td>17</td>\n",
       "      <td>yukiko</td>\n",
       "      <td>2</td>\n",
       "      <td>a</td>\n",
       "      <td>007</td>\n",
       "    </tr>\n",
       "    <tr>\n",
       "      <th>1409</th>\n",
       "      <td>17yukiko2a8.jpg</td>\n",
       "      <td>17</td>\n",
       "      <td>yukiko</td>\n",
       "      <td>2</td>\n",
       "      <td>a</td>\n",
       "      <td>008</td>\n",
       "    </tr>\n",
       "    <tr>\n",
       "      <th>1410</th>\n",
       "      <td>17yukiko2a9.jpg</td>\n",
       "      <td>17</td>\n",
       "      <td>yukiko</td>\n",
       "      <td>2</td>\n",
       "      <td>a</td>\n",
       "      <td>009</td>\n",
       "    </tr>\n",
       "    <tr>\n",
       "      <th>1411</th>\n",
       "      <td>17yukiko2a10.jpg</td>\n",
       "      <td>17</td>\n",
       "      <td>yukiko</td>\n",
       "      <td>2</td>\n",
       "      <td>a</td>\n",
       "      <td>010</td>\n",
       "    </tr>\n",
       "    <tr>\n",
       "      <th>1412</th>\n",
       "      <td>17yukiko2o1.jpg</td>\n",
       "      <td>17</td>\n",
       "      <td>yukiko</td>\n",
       "      <td>2</td>\n",
       "      <td>o</td>\n",
       "      <td>001</td>\n",
       "    </tr>\n",
       "    <tr>\n",
       "      <th>1413</th>\n",
       "      <td>17yukiko2o2.jpg</td>\n",
       "      <td>17</td>\n",
       "      <td>yukiko</td>\n",
       "      <td>2</td>\n",
       "      <td>o</td>\n",
       "      <td>002</td>\n",
       "    </tr>\n",
       "    <tr>\n",
       "      <th>1414</th>\n",
       "      <td>17yukiko2o3.jpg</td>\n",
       "      <td>17</td>\n",
       "      <td>yukiko</td>\n",
       "      <td>2</td>\n",
       "      <td>o</td>\n",
       "      <td>003</td>\n",
       "    </tr>\n",
       "    <tr>\n",
       "      <th>1415</th>\n",
       "      <td>17yukiko2o4.jpg</td>\n",
       "      <td>17</td>\n",
       "      <td>yukiko</td>\n",
       "      <td>2</td>\n",
       "      <td>o</td>\n",
       "      <td>004</td>\n",
       "    </tr>\n",
       "    <tr>\n",
       "      <th>1416</th>\n",
       "      <td>17yukiko2o5.jpg</td>\n",
       "      <td>17</td>\n",
       "      <td>yukiko</td>\n",
       "      <td>2</td>\n",
       "      <td>o</td>\n",
       "      <td>005</td>\n",
       "    </tr>\n",
       "    <tr>\n",
       "      <th>1417</th>\n",
       "      <td>17yukiko2o6.jpg</td>\n",
       "      <td>17</td>\n",
       "      <td>yukiko</td>\n",
       "      <td>2</td>\n",
       "      <td>o</td>\n",
       "      <td>006</td>\n",
       "    </tr>\n",
       "    <tr>\n",
       "      <th>1418</th>\n",
       "      <td>17yukiko2o7.jpg</td>\n",
       "      <td>17</td>\n",
       "      <td>yukiko</td>\n",
       "      <td>2</td>\n",
       "      <td>o</td>\n",
       "      <td>007</td>\n",
       "    </tr>\n",
       "    <tr>\n",
       "      <th>1419</th>\n",
       "      <td>17yukiko2o8.jpg</td>\n",
       "      <td>17</td>\n",
       "      <td>yukiko</td>\n",
       "      <td>2</td>\n",
       "      <td>o</td>\n",
       "      <td>008</td>\n",
       "    </tr>\n",
       "    <tr>\n",
       "      <th>1420</th>\n",
       "      <td>17yukiko2o9.jpg</td>\n",
       "      <td>17</td>\n",
       "      <td>yukiko</td>\n",
       "      <td>2</td>\n",
       "      <td>o</td>\n",
       "      <td>009</td>\n",
       "    </tr>\n",
       "    <tr>\n",
       "      <th>1421</th>\n",
       "      <td>17yukiko2o10.jpg</td>\n",
       "      <td>17</td>\n",
       "      <td>yukiko</td>\n",
       "      <td>2</td>\n",
       "      <td>o</td>\n",
       "      <td>010</td>\n",
       "    </tr>\n",
       "  </tbody>\n",
       "</table>\n",
       "<p>1423 rows × 6 columns</p>\n",
       "</div>"
      ],
      "text/plain": [
       "              filename year spacies block shape   sn\n",
       "0      17ajimal1a1.jpg   17  ajimal     1     a  001\n",
       "1      17ajimal1a2.jpg   17  ajimal     1     a  002\n",
       "2      17ajimal1a3.jpg   17  ajimal     1     a  003\n",
       "3      17ajimal1a4.jpg   17  ajimal     1     a  004\n",
       "4      17ajimal1a5.jpg   17  ajimal     1     a  005\n",
       "5      17ajimal1a6.jpg   17  ajimal     1     a  006\n",
       "6      17ajimal1a7.jpg   17  ajimal     1     a  007\n",
       "7      17ajimal1a8.jpg   17  ajimal     1     a  008\n",
       "8      17ajimal1a9.jpg   17  ajimal     1     a  009\n",
       "9     17ajimal1a10.jpg   17  ajimal     1     a  010\n",
       "10     17ajimal1o1.jpg   17  ajimal     1     o  001\n",
       "11     17ajimal1o2.jpg   17  ajimal     1     o  002\n",
       "12     17ajimal1o3.jpg   17  ajimal     1     o  003\n",
       "13     17ajimal1o4.jpg   17  ajimal     1     o  004\n",
       "14     17ajimal1o5.jpg   17  ajimal     1     o  005\n",
       "15     17ajimal1o6.jpg   17  ajimal     1     o  006\n",
       "16     17ajimal1o7.jpg   17  ajimal     1     o  007\n",
       "17     17ajimal1o8.jpg   17  ajimal     1     o  008\n",
       "18     17ajimal1o9.jpg   17  ajimal     1     o  009\n",
       "19    17ajimal1o10.jpg   17  ajimal     1     o  010\n",
       "20     17ajimal2a1.jpg   17  ajimal     2     a  001\n",
       "21     17ajimal2a2.jpg   17  ajimal     2     a  002\n",
       "22     17ajimal2a3.jpg   17  ajimal     2     a  003\n",
       "23     17ajimal2a4.jpg   17  ajimal     2     a  004\n",
       "24     17ajimal2a5.jpg   17  ajimal     2     a  005\n",
       "25     17ajimal2a6.jpg   17  ajimal     2     a  006\n",
       "26     17ajimal2a7.jpg   17  ajimal     2     a  007\n",
       "27     17ajimal2a8.jpg   17  ajimal     2     a  008\n",
       "28     17ajimal2a9.jpg   17  ajimal     2     a  009\n",
       "29    17ajimal2a10.jpg   17  ajimal     2     a  010\n",
       "...                ...  ...     ...   ...   ...  ...\n",
       "1392   17yukiko1o1.jpg   17  yukiko     1     o  001\n",
       "1393   17yukiko1o2.jpg   17  yukiko     1     o  002\n",
       "1394   17yukiko1o3.jpg   17  yukiko     1     o  003\n",
       "1395   17yukiko1o4.jpg   17  yukiko     1     o  004\n",
       "1396   17yukiko1o5.jpg   17  yukiko     1     o  005\n",
       "1397   17yukiko1o6.jpg   17  yukiko     1     o  006\n",
       "1398   17yukiko1o7.jpg   17  yukiko     1     o  007\n",
       "1399   17yukiko1o8.jpg   17  yukiko     1     o  008\n",
       "1400   17yukiko1o9.jpg   17  yukiko     1     o  009\n",
       "1401  17yukiko1o10.jpg   17  yukiko     1     o  010\n",
       "1402   17yukiko2a1.jpg   17  yukiko     2     a  001\n",
       "1403   17yukiko2a2.jpg   17  yukiko     2     a  002\n",
       "1404   17yukiko2a3.jpg   17  yukiko     2     a  003\n",
       "1405   17yukiko2a4.jpg   17  yukiko     2     a  004\n",
       "1406   17yukiko2a5.jpg   17  yukiko     2     a  005\n",
       "1407   17yukiko2a6.jpg   17  yukiko     2     a  006\n",
       "1408   17yukiko2a7.jpg   17  yukiko     2     a  007\n",
       "1409   17yukiko2a8.jpg   17  yukiko     2     a  008\n",
       "1410   17yukiko2a9.jpg   17  yukiko     2     a  009\n",
       "1411  17yukiko2a10.jpg   17  yukiko     2     a  010\n",
       "1412   17yukiko2o1.jpg   17  yukiko     2     o  001\n",
       "1413   17yukiko2o2.jpg   17  yukiko     2     o  002\n",
       "1414   17yukiko2o3.jpg   17  yukiko     2     o  003\n",
       "1415   17yukiko2o4.jpg   17  yukiko     2     o  004\n",
       "1416   17yukiko2o5.jpg   17  yukiko     2     o  005\n",
       "1417   17yukiko2o6.jpg   17  yukiko     2     o  006\n",
       "1418   17yukiko2o7.jpg   17  yukiko     2     o  007\n",
       "1419   17yukiko2o8.jpg   17  yukiko     2     o  008\n",
       "1420   17yukiko2o9.jpg   17  yukiko     2     o  009\n",
       "1421  17yukiko2o10.jpg   17  yukiko     2     o  010\n",
       "\n",
       "[1423 rows x 6 columns]"
      ]
     },
     "execution_count": 2,
     "metadata": {},
     "output_type": "execute_result"
    }
   ],
   "source": [
    "df"
   ]
  },
  {
   "cell_type": "code",
   "execution_count": 7,
   "metadata": {},
   "outputs": [],
   "source": [
    "spc = list(set(df['spacies']))"
   ]
  },
  {
   "cell_type": "code",
   "execution_count": 8,
   "metadata": {},
   "outputs": [
    {
     "data": {
      "text/plain": [
       "36"
      ]
     },
     "execution_count": 8,
     "metadata": {},
     "output_type": "execute_result"
    }
   ],
   "source": [
    "len(spc)"
   ]
  },
  {
   "cell_type": "code",
   "execution_count": 9,
   "metadata": {},
   "outputs": [
    {
     "data": {
      "text/plain": [
       "1440"
      ]
     },
     "execution_count": 9,
     "metadata": {},
     "output_type": "execute_result"
    }
   ],
   "source": [
    "360*4"
   ]
  },
  {
   "cell_type": "code",
   "execution_count": 205,
   "metadata": {
    "scrolled": true
   },
   "outputs": [],
   "source": [
    "import cv2\n",
    "import numpy as np\n",
    "from matplotlib import pyplot as plt\n",
    "\n",
    "filename = 'qpics/17ajimal1a1.jpg'\n",
    "img = cv2.imread(filename)\n",
    "gry = cv2.imread(filename,0)\n",
    "gry3 = np.array([gry,gry,gry])\n",
    "gry3 = gry3.transpose(1,2,0)\n",
    "\n",
    "hight,width = gry.shape\n"
   ]
  },
  {
   "cell_type": "code",
   "execution_count": null,
   "metadata": {},
   "outputs": [],
   "source": []
  },
  {
   "cell_type": "code",
   "execution_count": 209,
   "metadata": {},
   "outputs": [
    {
     "data": {
      "text/plain": [
       "(1000, 750)"
      ]
     },
     "execution_count": 209,
     "metadata": {},
     "output_type": "execute_result"
    }
   ],
   "source": [
    "height,width"
   ]
  },
  {
   "cell_type": "code",
   "execution_count": 207,
   "metadata": {
    "collapsed": true
   },
   "outputs": [],
   "source": [
    "from sklearn import cluster, preprocessing, mixture #機械学習用のライブラリを利用\n",
    "gmm=mixture.GaussianMixture(n_components=5,covariance_type='full')\n",
    "fimg = img.reshape((height*width,3))\n",
    "z_gmm=gmm.fit(fimg)"
   ]
  },
  {
   "cell_type": "code",
   "execution_count": 210,
   "metadata": {},
   "outputs": [
    {
     "data": {
      "text/plain": [
       "array([[  84.75260349,   77.01935696,   68.98295787],\n",
       "       [ 107.08375646,  195.74020644,  139.68257484],\n",
       "       [  68.98280254,  131.18107059,   94.75199147],\n",
       "       [ 194.61397757,  207.18736591,  210.57106198],\n",
       "       [  83.53988121,   72.51843998,   60.72878655]])"
      ]
     },
     "execution_count": 210,
     "metadata": {},
     "output_type": "execute_result"
    }
   ],
   "source": [
    "z_gmm.means_"
   ]
  },
  {
   "cell_type": "code",
   "execution_count": 211,
   "metadata": {},
   "outputs": [
    {
     "name": "stdout",
     "output_type": "stream",
     "text": [
      "\n"
     ]
    },
    {
     "data": {
      "image/png": "[encoded data removed]",
      "text/plain": [
       "<matplotlib.figure.Figure at 0x12d71d7f0>"
      ]
     },
     "metadata": {},
     "output_type": "display_data"
    },
    {
     "data": {
      "image/png": "[encoded data removed]",
      "text/plain": [
       "<matplotlib.figure.Figure at 0x12d730f98>"
      ]
     },
     "metadata": {},
     "output_type": "display_data"
    },
    {
     "data": {
      "text/plain": [
       "(<matplotlib.image.AxesImage at 0x11d0ff400>, None)"
      ]
     },
     "execution_count": 211,
     "metadata": {},
     "output_type": "execute_result"
    }
   ],
   "source": [
    "levels = []\n",
    "maxlevel = np.linalg.norm([255.0,255.0,255.0])\n",
    "print()\n",
    "for m in z_gmm.means_:\n",
    "    levels.append(np.linalg.norm(m))\n",
    "\n",
    "levels = np.array(np.sort(levels))\n",
    "blacklevel = levels[0]   # 黒領域の色ノルムの平均値\n",
    "whitelevel = levels[-1] # 白領域の色ノルムの平均値\n",
    "\n",
    "mask0 = np.zeros((height,width),dtype=np.uint8)\n",
    "for i in range(height):\n",
    "    for j in range(width):\n",
    "        if np.linalg.norm(img[i][j]) < blacklevel:\n",
    "            mask0[i][j] = 255\n",
    "\n",
    "mask1 = np.zeros((height,width),dtype=np.uint8)\n",
    "for i in range(height):\n",
    "    for j in range(width):\n",
    "        if np.linalg.norm(img[i][j]) > whitelevel:\n",
    "            mask1[i][j] = 255\n",
    "            \n",
    "plt.imshow(mask0),plt.show()\n",
    "plt.imshow(mask1),plt.show()"
   ]
  },
  {
   "cell_type": "code",
   "execution_count": 212,
   "metadata": {},
   "outputs": [],
   "source": [
    "nlabels, labelimg, contours, CoGs = cv2.connectedComponentsWithStats(mask0)"
   ]
  },
  {
   "cell_type": "code",
   "execution_count": 213,
   "metadata": {},
   "outputs": [
    {
     "data": {
      "text/plain": [
       "2724"
      ]
     },
     "execution_count": 213,
     "metadata": {},
     "output_type": "execute_result"
    }
   ],
   "source": [
    "nlabels"
   ]
  },
  {
   "cell_type": "code",
   "execution_count": 214,
   "metadata": {},
   "outputs": [
    {
     "data": {
      "image/png": "[encoded data removed]",
      "text/plain": [
       "<matplotlib.figure.Figure at 0x117647a20>"
      ]
     },
     "metadata": {},
     "output_type": "display_data"
    },
    {
     "data": {
      "text/plain": [
       "(<matplotlib.image.AxesImage at 0x11a6dd198>, None)"
      ]
     },
     "execution_count": 214,
     "metadata": {},
     "output_type": "execute_result"
    }
   ],
   "source": [
    "plt.imshow(labelimg),plt.show()"
   ]
  },
  {
   "cell_type": "code",
   "execution_count": 215,
   "metadata": {},
   "outputs": [
    {
     "data": {
      "text/plain": [
       "array([[     0,      0,    750,   1000, 516626],\n",
       "       [    14,      0,     14,     18,     76],\n",
       "       [    61,      0,      1,      2,      2],\n",
       "       ..., \n",
       "       [   509,    984,      9,      5,     16],\n",
       "       [   519,    990,      2,      2,      2],\n",
       "       [   235,    993,     38,      7,    193]], dtype=int32)"
      ]
     },
     "execution_count": 215,
     "metadata": {},
     "output_type": "execute_result"
    }
   ],
   "source": [
    "contours"
   ]
  },
  {
   "cell_type": "code",
   "execution_count": 216,
   "metadata": {},
   "outputs": [],
   "source": [
    "maxblackindex = np.argmax(contours[1:,4])"
   ]
  },
  {
   "cell_type": "code",
   "execution_count": 217,
   "metadata": {},
   "outputs": [
    {
     "data": {
      "text/plain": [
       "1558"
      ]
     },
     "execution_count": 217,
     "metadata": {},
     "output_type": "execute_result"
    }
   ],
   "source": [
    "maxblackindex"
   ]
  },
  {
   "cell_type": "code",
   "execution_count": 220,
   "metadata": {},
   "outputs": [],
   "source": [
    "mask00 = np.uint8(labelimg==1559)*255"
   ]
  },
  {
   "cell_type": "code",
   "execution_count": 221,
   "metadata": {},
   "outputs": [
    {
     "data": {
      "image/png": "[encoded data removed]",
      "text/plain": [
       "<matplotlib.figure.Figure at 0x12d73cdd8>"
      ]
     },
     "metadata": {},
     "output_type": "display_data"
    },
    {
     "data": {
      "text/plain": [
       "(<matplotlib.image.AxesImage at 0x11aaf3da0>, None)"
      ]
     },
     "execution_count": 221,
     "metadata": {},
     "output_type": "execute_result"
    }
   ],
   "source": [
    "plt.imshow(mask00),plt.show()"
   ]
  },
  {
   "cell_type": "code",
   "execution_count": 222,
   "metadata": {},
   "outputs": [],
   "source": [
    "mask11 = np.uint"
   ]
  },
  {
   "cell_type": "code",
   "execution_count": 223,
   "metadata": {},
   "outputs": [
    {
     "data": {
      "text/plain": [
       "2724"
      ]
     },
     "execution_count": 223,
     "metadata": {},
     "output_type": "execute_result"
    }
   ],
   "source": [
    "len(contours)"
   ]
  },
  {
   "cell_type": "code",
   "execution_count": 224,
   "metadata": {
    "collapsed": true
   },
   "outputs": [],
   "source": [
    "nlabels1, labelimg1, contours1, CoGs1 = cv2.connectedComponentsWithStats(mask1)"
   ]
  },
  {
   "cell_type": "code",
   "execution_count": 225,
   "metadata": {},
   "outputs": [
    {
     "data": {
      "text/plain": [
       "730"
      ]
     },
     "execution_count": 225,
     "metadata": {},
     "output_type": "execute_result"
    }
   ],
   "source": [
    "nlabels1"
   ]
  },
  {
   "cell_type": "code",
   "execution_count": 226,
   "metadata": {},
   "outputs": [
    {
     "data": {
      "text/plain": [
       "(645, 11375)"
      ]
     },
     "execution_count": 226,
     "metadata": {},
     "output_type": "execute_result"
    }
   ],
   "source": [
    "maxwhiteindex = np.argmax(contours1[1:,4])\n",
    "maxwhitearea = np.max(contours1[1:,4])\n",
    "maxwhiteindex,maxwhitearea"
   ]
  },
  {
   "cell_type": "code",
   "execution_count": 228,
   "metadata": {},
   "outputs": [
    {
     "data": {
      "image/png": "[encoded data removed]",
      "text/plain": [
       "<matplotlib.figure.Figure at 0x11aa784a8>"
      ]
     },
     "metadata": {},
     "output_type": "display_data"
    },
    {
     "data": {
      "text/plain": [
       "(<matplotlib.image.AxesImage at 0x128fc7ac8>, None)"
      ]
     },
     "execution_count": 228,
     "metadata": {},
     "output_type": "execute_result"
    }
   ],
   "source": [
    "mask11 = np.uint8(labelimg1==646)*255\n",
    "plt.imshow(mask11),plt.show()"
   ]
  },
  {
   "cell_type": "code",
   "execution_count": 229,
   "metadata": {
    "collapsed": true
   },
   "outputs": [],
   "source": [
    "mask = np.ones((height,width),np.uint8)*2"
   ]
  },
  {
   "cell_type": "code",
   "execution_count": 230,
   "metadata": {},
   "outputs": [],
   "source": [
    "mask[mask00==255]=0\n",
    "mask[mask11==255]=1"
   ]
  },
  {
   "cell_type": "code",
   "execution_count": 231,
   "metadata": {},
   "outputs": [
    {
     "data": {
      "image/png": "[encoded data removed]",
      "text/plain": [
       "<matplotlib.figure.Figure at 0x1213fb940>"
      ]
     },
     "metadata": {},
     "output_type": "display_data"
    },
    {
     "data": {
      "text/plain": [
       "(<matplotlib.image.AxesImage at 0x11d07d860>,\n",
       " <matplotlib.colorbar.Colorbar at 0x129120c18>,\n",
       " None)"
      ]
     },
     "execution_count": 231,
     "metadata": {},
     "output_type": "execute_result"
    }
   ],
   "source": [
    "bgdModel = np.zeros((1,65),np.float64)\n",
    "fgdModel = np.zeros((1,65),np.float64)\n",
    "\n",
    "mask, bgdModel, fgdModel = cv2.grabCut(img,mask,None,bgdModel,fgdModel,5,cv2.GC_INIT_WITH_MASK)\n",
    "\n",
    "mask = np.where((mask==2)|(mask==0),0,1).astype('uint8')\n",
    "img = img*mask[:,:,np.newaxis]\n",
    "plt.imshow(img),plt.colorbar(),plt.show()"
   ]
  },
  {
   "cell_type": "code",
   "execution_count": 232,
   "metadata": {},
   "outputs": [
    {
     "data": {
      "image/png": "[encoded data removed]",
      "text/plain": [
       "<matplotlib.figure.Figure at 0x1214077f0>"
      ]
     },
     "metadata": {},
     "output_type": "display_data"
    },
    {
     "data": {
      "text/plain": [
       "(<matplotlib.image.AxesImage at 0x1299a1f28>, None)"
      ]
     },
     "execution_count": 232,
     "metadata": {},
     "output_type": "execute_result"
    }
   ],
   "source": [
    "kernel = np.ones((100,100),np.uint8)\n",
    "dilation =  cv2.dilate(mask11,kernel,iterations = 1)\n",
    "plt.imshow(dilation),plt.show()"
   ]
  },
  {
   "cell_type": "code",
   "execution_count": 198,
   "metadata": {},
   "outputs": [
    {
     "data": {
      "text/plain": [
       "(1000, 650)"
      ]
     },
     "execution_count": 198,
     "metadata": {},
     "output_type": "execute_result"
    }
   ],
   "source": [
    "mask.shape"
   ]
  },
  {
   "cell_type": "code",
   "execution_count": 234,
   "metadata": {},
   "outputs": [],
   "source": [
    "mask = np.ones((height,width),np.uint8)*3\n",
    "mask[dilation==0]=0\n",
    "mask[mask11==255]=1"
   ]
  },
  {
   "cell_type": "code",
   "execution_count": 235,
   "metadata": {},
   "outputs": [
    {
     "data": {
      "image/png": "[encoded data removed]",
      "text/plain": [
       "<matplotlib.figure.Figure at 0x1213f2240>"
      ]
     },
     "metadata": {},
     "output_type": "display_data"
    },
    {
     "data": {
      "text/plain": [
       "(<matplotlib.image.AxesImage at 0x129a86ba8>,\n",
       " <matplotlib.colorbar.Colorbar at 0x129248f60>,\n",
       " None)"
      ]
     },
     "execution_count": 235,
     "metadata": {},
     "output_type": "execute_result"
    }
   ],
   "source": [
    "bgdModel = np.zeros((1,65),np.float64)\n",
    "fgdModel = np.zeros((1,65),np.float64)\n",
    "\n",
    "mask, bgdModel, fgdModel = cv2.grabCut(img,mask,None,bgdModel,fgdModel,5,cv2.GC_INIT_WITH_MASK)\n",
    "\n",
    "mask = np.where((mask==2)|(mask==0),0,1).astype('uint8')\n",
    "img = img*mask[:,:,np.newaxis]\n",
    "plt.imshow(img),plt.colorbar(),plt.show()"
   ]
  },
  {
   "cell_type": "code",
   "execution_count": 181,
   "metadata": {},
   "outputs": [
    {
     "data": {
      "image/png": "[encoded data removed]",
      "text/plain": [
       "<matplotlib.figure.Figure at 0x12b183a20>"
      ]
     },
     "metadata": {},
     "output_type": "display_data"
    },
    {
     "data": {
      "text/plain": [
       "(<matplotlib.image.AxesImage at 0x12b271438>, None)"
      ]
     },
     "execution_count": 181,
     "metadata": {},
     "output_type": "execute_result"
    }
   ],
   "source": [
    "plt.imshow(mask),plt.show()"
   ]
  },
  {
   "cell_type": "code",
   "execution_count": 233,
   "metadata": {},
   "outputs": [
    {
     "data": {
      "text/plain": [
       "750"
      ]
     },
     "execution_count": 233,
     "metadata": {},
     "output_type": "execute_result"
    }
   ],
   "source": [
    "width"
   ]
  },
  {
   "cell_type": "code",
   "execution_count": null,
   "metadata": {
    "collapsed": true
   },
   "outputs": [],
   "source": []
  }
 ],
 "metadata": {
  "kernelspec": {
   "display_name": "Python 3",
   "language": "python",
   "name": "python3"
  },
  "language_info": {
   "codemirror_mode": {
    "name": "ipython",
    "version": 3
   },
   "file_extension": ".py",
   "mimetype": "text/x-python",
   "name": "python",
   "nbconvert_exporter": "python",
   "pygments_lexer": "ipython3",
   "version": "3.6.2"
  }
 },
 "nbformat": 4,
 "nbformat_minor": 2
}
